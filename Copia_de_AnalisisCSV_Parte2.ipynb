{
  "nbformat": 4,
  "nbformat_minor": 0,
  "metadata": {
    "colab": {
      "provenance": [],
      "authorship_tag": "ABX9TyMyotbgm0y01RFfrb8V0/1X",
      "include_colab_link": true
    },
    "kernelspec": {
      "name": "python3",
      "display_name": "Python 3"
    },
    "language_info": {
      "name": "python"
    }
  },
  "cells": [
    {
      "cell_type": "markdown",
      "metadata": {
        "id": "view-in-github",
        "colab_type": "text"
      },
      "source": [
        "<a href=\"https://colab.research.google.com/github/hk5ymt/TrabajoPrueba/blob/main/Copia_de_AnalisisCSV_Parte2.ipynb\" target=\"_parent\"><img src=\"https://colab.research.google.com/assets/colab-badge.svg\" alt=\"Open In Colab\"/></a>"
      ]
    },
    {
      "cell_type": "code",
      "execution_count": null,
      "metadata": {
        "id": "Pjlb2BjYAqeu",
        "outputId": "721a7689-cd55-4d4c-be45-2d52498dcfb3",
        "colab": {
          "base_uri": "https://localhost:8080/"
        }
      },
      "outputs": [
        {
          "output_type": "stream",
          "name": "stdout",
          "text": [
            "     Municipios    Aji  Arveja a  Arveja b  Cebolla larga  cilantro a  \\\n",
            "0          Cali    8.0       0.0      25.0            0.0        55.0   \n",
            "1        Alcalá    0.0       0.0       0.0            0.0         0.0   \n",
            "2     Andalucia    0.0       0.0       0.0            0.0         0.0   \n",
            "3  Ansermanuevo    0.0       0.0       0.0            0.0         0.0   \n",
            "4       Argelia    0.0       0.0       0.0            0.0         0.0   \n",
            "5       Bolivar  448.0      36.0      36.0            0.0         0.0   \n",
            "\n",
            "   cilantro b  Habichuela a  Habichuela b  Lechuga a  ...  Repollo b  \\\n",
            "0        60.0          36.0          30.0       77.0  ...       64.0   \n",
            "1         0.0         571.0         380.0        0.0  ...        0.0   \n",
            "2         0.0           0.0           0.0        0.0  ...        0.0   \n",
            "3         0.0          40.5          22.5        0.0  ...        0.0   \n",
            "4         0.0           0.0           0.0        0.0  ...        0.0   \n",
            "5         0.0         100.0         140.0        0.0  ...        0.0   \n",
            "\n",
            "   Tomate a  Tomate b  Tomate invernadero a  Tomate invernadero b  \\\n",
            "0     200.0     120.0                 120.0                 120.0   \n",
            "1    1119.4    1823.4                   0.0                   0.0   \n",
            "2       0.0       0.0                   0.0                   0.0   \n",
            "3      68.0     330.0                 157.5                 147.0   \n",
            "4     312.0      84.0                   0.0                   0.0   \n",
            "5     644.0     560.0                   0.0                   0.0   \n",
            "\n",
            "   Zanahoria A  Zanahoria B  Zapallo A  Zapallo B   Año  \n",
            "0         30.0           90        0.0        0.0  2017  \n",
            "1          0.0            0        0.0        0.0  2017  \n",
            "2          0.0            0        0.0        0.0  2017  \n",
            "3          0.0            0        0.0        0.0  2017  \n",
            "4          0.0            0        0.0        0.0  2017  \n",
            "5          0.0            0      750.0      750.0  2017  \n",
            "\n",
            "[6 rows x 26 columns]\n"
          ]
        }
      ],
      "source": [
        "import pandas as pd\n",
        "url  = 'https://raw.githubusercontent.com/hk5ymt/TrabajoPrueba/main/PRODUCCI_N_EN_TONELADAS_DE_CULTIVOS_DE_HORTALIZAS__EN_EL_VALLE_DEL_CAUCA.csv'\n",
        "df = pd.read_csv (url)\n",
        "print(df.head(6))"
      ]
    },
    {
      "cell_type": "code",
      "source": [
        "print(df.info)\n",
        "print(df)"
      ],
      "metadata": {
        "id": "KSY89eO5C32z",
        "outputId": "efa84702-6178-4e1d-f579-cc100a7aac26",
        "colab": {
          "base_uri": "https://localhost:8080/"
        }
      },
      "execution_count": null,
      "outputs": [
        {
          "output_type": "stream",
          "name": "stdout",
          "text": [
            "<bound method DataFrame.info of        Municipios    Aji  Arveja a  Arveja b  Cebolla larga  cilantro a  \\\n",
            "0            Cali    8.0       0.0      25.0            0.0        55.0   \n",
            "1          Alcalá    0.0       0.0       0.0            0.0         0.0   \n",
            "2       Andalucia    0.0       0.0       0.0            0.0         0.0   \n",
            "3    Ansermanuevo    0.0       0.0       0.0            0.0         0.0   \n",
            "4         Argelia    0.0       0.0       0.0            0.0         0.0   \n",
            "..            ...    ...       ...       ...            ...         ...   \n",
            "123     Versalles    0.0      10.0      10.0            0.0         0.0   \n",
            "124         Vijes  560.0       0.0       0.0           90.0        33.0   \n",
            "125        Yotoco    0.0       0.0       0.0           10.0        24.0   \n",
            "126         Yumbo   63.2       5.1       5.1          106.2       292.5   \n",
            "127        Zarzal    0.0       0.0       0.0            0.0         0.0   \n",
            "\n",
            "     cilantro b  Habichuela a  Habichuela b  Lechuga a  ...  Repollo b  \\\n",
            "0          60.0          36.0          30.0       77.0  ...       64.0   \n",
            "1           0.0         571.0         380.0        0.0  ...        0.0   \n",
            "2           0.0           0.0           0.0        0.0  ...        0.0   \n",
            "3           0.0          40.5          22.5        0.0  ...        0.0   \n",
            "4           0.0           0.0           0.0        0.0  ...        0.0   \n",
            "..          ...           ...           ...        ...  ...        ...   \n",
            "123         0.0          24.0          32.0        0.0  ...      240.0   \n",
            "124        32.2          76.5          36.0        0.0  ...        0.0   \n",
            "125        32.0          90.0          72.0        0.0  ...        0.0   \n",
            "126       300.0          24.3          35.1       44.2  ...        0.0   \n",
            "127         0.0           0.0           0.0        0.0  ...        0.0   \n",
            "\n",
            "     Tomate a  Tomate b  Tomate invernadero a  Tomate invernadero b  \\\n",
            "0       200.0     120.0                 120.0                 120.0   \n",
            "1      1119.4    1823.4                   0.0                   0.0   \n",
            "2         0.0       0.0                   0.0                   0.0   \n",
            "3        68.0     330.0                 157.5                 147.0   \n",
            "4       312.0      84.0                   0.0                   0.0   \n",
            "..        ...       ...                   ...                   ...   \n",
            "123     175.0     210.0                   0.0                   0.0   \n",
            "124    2310.0     904.4                   0.0                   0.0   \n",
            "125     360.0     480.0                   0.0                   0.0   \n",
            "126       7.5       7.5                 283.6                 238.0   \n",
            "127       0.0       0.0                   0.0                   0.0   \n",
            "\n",
            "     Zanahoria A  Zanahoria B  Zapallo A  Zapallo B   Año  \n",
            "0           30.0           90        0.0        0.0  2017  \n",
            "1            0.0            0        0.0        0.0  2017  \n",
            "2            0.0            0        0.0        0.0  2017  \n",
            "3            0.0            0        0.0        0.0  2017  \n",
            "4            0.0            0        0.0        0.0  2017  \n",
            "..           ...          ...        ...        ...   ...  \n",
            "123          0.0            0       30.0       40.0  2019  \n",
            "124          0.0            0        0.0        0.0  2019  \n",
            "125          0.0            0      120.0       64.0  2019  \n",
            "126          0.0            0       63.0       75.0  2019  \n",
            "127          0.0            0        0.0        0.0  2019  \n",
            "\n",
            "[128 rows x 26 columns]>\n",
            "       Municipios    Aji  Arveja a  Arveja b  Cebolla larga  cilantro a  \\\n",
            "0            Cali    8.0       0.0      25.0            0.0        55.0   \n",
            "1          Alcalá    0.0       0.0       0.0            0.0         0.0   \n",
            "2       Andalucia    0.0       0.0       0.0            0.0         0.0   \n",
            "3    Ansermanuevo    0.0       0.0       0.0            0.0         0.0   \n",
            "4         Argelia    0.0       0.0       0.0            0.0         0.0   \n",
            "..            ...    ...       ...       ...            ...         ...   \n",
            "123     Versalles    0.0      10.0      10.0            0.0         0.0   \n",
            "124         Vijes  560.0       0.0       0.0           90.0        33.0   \n",
            "125        Yotoco    0.0       0.0       0.0           10.0        24.0   \n",
            "126         Yumbo   63.2       5.1       5.1          106.2       292.5   \n",
            "127        Zarzal    0.0       0.0       0.0            0.0         0.0   \n",
            "\n",
            "     cilantro b  Habichuela a  Habichuela b  Lechuga a  ...  Repollo b  \\\n",
            "0          60.0          36.0          30.0       77.0  ...       64.0   \n",
            "1           0.0         571.0         380.0        0.0  ...        0.0   \n",
            "2           0.0           0.0           0.0        0.0  ...        0.0   \n",
            "3           0.0          40.5          22.5        0.0  ...        0.0   \n",
            "4           0.0           0.0           0.0        0.0  ...        0.0   \n",
            "..          ...           ...           ...        ...  ...        ...   \n",
            "123         0.0          24.0          32.0        0.0  ...      240.0   \n",
            "124        32.2          76.5          36.0        0.0  ...        0.0   \n",
            "125        32.0          90.0          72.0        0.0  ...        0.0   \n",
            "126       300.0          24.3          35.1       44.2  ...        0.0   \n",
            "127         0.0           0.0           0.0        0.0  ...        0.0   \n",
            "\n",
            "     Tomate a  Tomate b  Tomate invernadero a  Tomate invernadero b  \\\n",
            "0       200.0     120.0                 120.0                 120.0   \n",
            "1      1119.4    1823.4                   0.0                   0.0   \n",
            "2         0.0       0.0                   0.0                   0.0   \n",
            "3        68.0     330.0                 157.5                 147.0   \n",
            "4       312.0      84.0                   0.0                   0.0   \n",
            "..        ...       ...                   ...                   ...   \n",
            "123     175.0     210.0                   0.0                   0.0   \n",
            "124    2310.0     904.4                   0.0                   0.0   \n",
            "125     360.0     480.0                   0.0                   0.0   \n",
            "126       7.5       7.5                 283.6                 238.0   \n",
            "127       0.0       0.0                   0.0                   0.0   \n",
            "\n",
            "     Zanahoria A  Zanahoria B  Zapallo A  Zapallo B   Año  \n",
            "0           30.0           90        0.0        0.0  2017  \n",
            "1            0.0            0        0.0        0.0  2017  \n",
            "2            0.0            0        0.0        0.0  2017  \n",
            "3            0.0            0        0.0        0.0  2017  \n",
            "4            0.0            0        0.0        0.0  2017  \n",
            "..           ...          ...        ...        ...   ...  \n",
            "123          0.0            0       30.0       40.0  2019  \n",
            "124          0.0            0        0.0        0.0  2019  \n",
            "125          0.0            0      120.0       64.0  2019  \n",
            "126          0.0            0       63.0       75.0  2019  \n",
            "127          0.0            0        0.0        0.0  2019  \n",
            "\n",
            "[128 rows x 26 columns]\n"
          ]
        }
      ]
    }
  ]
}